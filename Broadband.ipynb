{
  "cells": [
    {
      "cell_type": "markdown",
      "metadata": {
        "id": "view-in-github",
        "colab_type": "text"
      },
      "source": [
        "<a href=\"https://colab.research.google.com/github/mariakuria/ASSIP-Research/blob/main/Broadband.ipynb\" target=\"_parent\"><img src=\"https://colab.research.google.com/assets/colab-badge.svg\" alt=\"Open In Colab\"/></a>"
      ]
    },
    {
      "cell_type": "code",
      "execution_count": null,
      "id": "2f0d12e0",
      "metadata": {
        "id": "2f0d12e0"
      },
      "outputs": [],
      "source": [
        "import pandas as pd\n",
        "import csv"
      ]
    },
    {
      "cell_type": "code",
      "execution_count": null,
      "id": "88aecdcb",
      "metadata": {
        "id": "88aecdcb",
        "outputId": "ecd86d8b-3c52-4326-9c35-46388d904428"
      },
      "outputs": [
        {
          "name": "stderr",
          "output_type": "stream",
          "text": [
            "C:\\Users\\maria_rxb3tta\\AppData\\Local\\Temp\\ipykernel_8872\\4275718070.py:1: DtypeWarning: Columns (8,9,10,11,12,13,15,16,17,18,19,20,21,22,23,24,25,26,27,28,29,30,31,34,35,36,37,38,39,40,42,43,44,45,46,48,49,50,54,57) have mixed types. Specify dtype option on import or set low_memory=False.\n",
            "  df = pd.read_csv('raw_tweets.csv')\n"
          ]
        }
      ],
      "source": [
        "df = pd.read_csv('raw_tweets.csv')"
      ]
    },
    {
      "cell_type": "code",
      "execution_count": null,
      "id": "0b7d68c0",
      "metadata": {
        "id": "0b7d68c0"
      },
      "outputs": [],
      "source": [
        "df = df[['ideology','tweet_id','username','created_at',\n",
        "       'party_x', 'tweet', 'address','age',\n",
        "       'Gender', 'Race_Ethnicity']]"
      ]
    },
    {
      "cell_type": "code",
      "execution_count": null,
      "id": "442b0fdb",
      "metadata": {
        "id": "442b0fdb",
        "outputId": "0811ced7-252b-41f8-d7dd-28e3dbf08dc3"
      },
      "outputs": [
        {
          "data": {
            "text/html": [
              "<div>\n",
              "<style scoped>\n",
              "    .dataframe tbody tr th:only-of-type {\n",
              "        vertical-align: middle;\n",
              "    }\n",
              "\n",
              "    .dataframe tbody tr th {\n",
              "        vertical-align: top;\n",
              "    }\n",
              "\n",
              "    .dataframe thead th {\n",
              "        text-align: right;\n",
              "    }\n",
              "</style>\n",
              "<table border=\"1\" class=\"dataframe\">\n",
              "  <thead>\n",
              "    <tr style=\"text-align: right;\">\n",
              "      <th></th>\n",
              "      <th>ideology</th>\n",
              "      <th>tweet_id</th>\n",
              "      <th>username</th>\n",
              "      <th>created_at</th>\n",
              "      <th>party_x</th>\n",
              "      <th>tweet</th>\n",
              "      <th>address</th>\n",
              "      <th>age</th>\n",
              "      <th>Gender</th>\n",
              "      <th>Race_Ethnicity</th>\n",
              "    </tr>\n",
              "  </thead>\n",
              "  <tbody>\n",
              "    <tr>\n",
              "      <th>0</th>\n",
              "      <td>0.714706</td>\n",
              "      <td>1669116894370996273</td>\n",
              "      <td>SenDanSullivan</td>\n",
              "      <td>2023-06-14 22:57:32+00:00</td>\n",
              "      <td>Democratic</td>\n",
              "      <td>Alaska offers the @USMC:\\n\\n1⃣ - exceptional y...</td>\n",
              "      <td>302 Hart Senate Office Building Washington DC ...</td>\n",
              "      <td>58.0</td>\n",
              "      <td>M</td>\n",
              "      <td>White - Non-Hispanic</td>\n",
              "    </tr>\n",
              "    <tr>\n",
              "      <th>1</th>\n",
              "      <td>0.714706</td>\n",
              "      <td>1669081104475725826</td>\n",
              "      <td>SenDanSullivan</td>\n",
              "      <td>2023-06-14 20:35:19+00:00</td>\n",
              "      <td>Democratic</td>\n",
              "      <td>For the last 2.5 years, Americans have been fo...</td>\n",
              "      <td>302 Hart Senate Office Building Washington DC ...</td>\n",
              "      <td>58.0</td>\n",
              "      <td>M</td>\n",
              "      <td>White - Non-Hispanic</td>\n",
              "    </tr>\n",
              "    <tr>\n",
              "      <th>2</th>\n",
              "      <td>0.714706</td>\n",
              "      <td>1669075435999641600</td>\n",
              "      <td>SenDanSullivan</td>\n",
              "      <td>2023-06-14 20:12:48+00:00</td>\n",
              "      <td>Democratic</td>\n",
              "      <td>The Stars and Stripes stand as a beacon of our...</td>\n",
              "      <td>302 Hart Senate Office Building Washington DC ...</td>\n",
              "      <td>58.0</td>\n",
              "      <td>M</td>\n",
              "      <td>White - Non-Hispanic</td>\n",
              "    </tr>\n",
              "    <tr>\n",
              "      <th>3</th>\n",
              "      <td>0.714706</td>\n",
              "      <td>1668752040007172097</td>\n",
              "      <td>SenDanSullivan</td>\n",
              "      <td>2023-06-13 22:47:44+00:00</td>\n",
              "      <td>Democratic</td>\n",
              "      <td>.@USMC General Eric Smith, nominee to be the n...</td>\n",
              "      <td>302 Hart Senate Office Building Washington DC ...</td>\n",
              "      <td>58.0</td>\n",
              "      <td>M</td>\n",
              "      <td>White - Non-Hispanic</td>\n",
              "    </tr>\n",
              "    <tr>\n",
              "      <th>4</th>\n",
              "      <td>0.714706</td>\n",
              "      <td>1668715803141627904</td>\n",
              "      <td>SenDanSullivan</td>\n",
              "      <td>2023-06-13 20:23:45+00:00</td>\n",
              "      <td>Democratic</td>\n",
              "      <td>Today, I led a letter w/ 13 of my #SASC collea...</td>\n",
              "      <td>302 Hart Senate Office Building Washington DC ...</td>\n",
              "      <td>58.0</td>\n",
              "      <td>M</td>\n",
              "      <td>White - Non-Hispanic</td>\n",
              "    </tr>\n",
              "  </tbody>\n",
              "</table>\n",
              "</div>"
            ],
            "text/plain": [
              "   ideology             tweet_id        username                 created_at  \\\n",
              "0  0.714706  1669116894370996273  SenDanSullivan  2023-06-14 22:57:32+00:00   \n",
              "1  0.714706  1669081104475725826  SenDanSullivan  2023-06-14 20:35:19+00:00   \n",
              "2  0.714706  1669075435999641600  SenDanSullivan  2023-06-14 20:12:48+00:00   \n",
              "3  0.714706  1668752040007172097  SenDanSullivan  2023-06-13 22:47:44+00:00   \n",
              "4  0.714706  1668715803141627904  SenDanSullivan  2023-06-13 20:23:45+00:00   \n",
              "\n",
              "      party_x                                              tweet  \\\n",
              "0  Democratic  Alaska offers the @USMC:\\n\\n1⃣ - exceptional y...   \n",
              "1  Democratic  For the last 2.5 years, Americans have been fo...   \n",
              "2  Democratic  The Stars and Stripes stand as a beacon of our...   \n",
              "3  Democratic  .@USMC General Eric Smith, nominee to be the n...   \n",
              "4  Democratic  Today, I led a letter w/ 13 of my #SASC collea...   \n",
              "\n",
              "                                             address   age Gender  \\\n",
              "0  302 Hart Senate Office Building Washington DC ...  58.0      M   \n",
              "1  302 Hart Senate Office Building Washington DC ...  58.0      M   \n",
              "2  302 Hart Senate Office Building Washington DC ...  58.0      M   \n",
              "3  302 Hart Senate Office Building Washington DC ...  58.0      M   \n",
              "4  302 Hart Senate Office Building Washington DC ...  58.0      M   \n",
              "\n",
              "         Race_Ethnicity  \n",
              "0  White - Non-Hispanic  \n",
              "1  White - Non-Hispanic  \n",
              "2  White - Non-Hispanic  \n",
              "3  White - Non-Hispanic  \n",
              "4  White - Non-Hispanic  "
            ]
          },
          "execution_count": 10,
          "metadata": {},
          "output_type": "execute_result"
        }
      ],
      "source": [
        "df.head()"
      ]
    },
    {
      "cell_type": "code",
      "execution_count": null,
      "id": "98da608b",
      "metadata": {
        "id": "98da608b"
      },
      "outputs": [],
      "source": [
        "df.to_csv('filtered_data.csv')"
      ]
    },
    {
      "cell_type": "code",
      "execution_count": null,
      "id": "3a90f346",
      "metadata": {
        "id": "3a90f346",
        "outputId": "9205bf2e-3717-4fea-91f8-8a8c730cad89"
      },
      "outputs": [
        {
          "data": {
            "text/html": [
              "<div>\n",
              "<style scoped>\n",
              "    .dataframe tbody tr th:only-of-type {\n",
              "        vertical-align: middle;\n",
              "    }\n",
              "\n",
              "    .dataframe tbody tr th {\n",
              "        vertical-align: top;\n",
              "    }\n",
              "\n",
              "    .dataframe thead th {\n",
              "        text-align: right;\n",
              "    }\n",
              "</style>\n",
              "<table border=\"1\" class=\"dataframe\">\n",
              "  <thead>\n",
              "    <tr style=\"text-align: right;\">\n",
              "      <th></th>\n",
              "      <th>Unnamed: 0</th>\n",
              "      <th>ideology</th>\n",
              "      <th>tweet_id</th>\n",
              "      <th>username</th>\n",
              "      <th>created_at</th>\n",
              "      <th>party_x</th>\n",
              "      <th>tweet</th>\n",
              "      <th>address</th>\n",
              "      <th>age</th>\n",
              "      <th>Gender</th>\n",
              "      <th>Race_Ethnicity</th>\n",
              "      <th>broadband</th>\n",
              "    </tr>\n",
              "  </thead>\n",
              "  <tbody>\n",
              "    <tr>\n",
              "      <th>0</th>\n",
              "      <td>0</td>\n",
              "      <td>0.714706</td>\n",
              "      <td>1669116894370996273</td>\n",
              "      <td>SenDanSullivan</td>\n",
              "      <td>2023-06-14 22:57:32+00:00</td>\n",
              "      <td>Democratic</td>\n",
              "      <td>Alaska offers the @USMC:\\n\\n1⃣ - exceptional y...</td>\n",
              "      <td>302 Hart Senate Office Building Washington DC ...</td>\n",
              "      <td>58.0</td>\n",
              "      <td>M</td>\n",
              "      <td>White - Non-Hispanic</td>\n",
              "      <td></td>\n",
              "    </tr>\n",
              "    <tr>\n",
              "      <th>1</th>\n",
              "      <td>1</td>\n",
              "      <td>0.714706</td>\n",
              "      <td>1669081104475725826</td>\n",
              "      <td>SenDanSullivan</td>\n",
              "      <td>2023-06-14 20:35:19+00:00</td>\n",
              "      <td>Democratic</td>\n",
              "      <td>For the last 2.5 years, Americans have been fo...</td>\n",
              "      <td>302 Hart Senate Office Building Washington DC ...</td>\n",
              "      <td>58.0</td>\n",
              "      <td>M</td>\n",
              "      <td>White - Non-Hispanic</td>\n",
              "      <td></td>\n",
              "    </tr>\n",
              "    <tr>\n",
              "      <th>2</th>\n",
              "      <td>2</td>\n",
              "      <td>0.714706</td>\n",
              "      <td>1669075435999641600</td>\n",
              "      <td>SenDanSullivan</td>\n",
              "      <td>2023-06-14 20:12:48+00:00</td>\n",
              "      <td>Democratic</td>\n",
              "      <td>The Stars and Stripes stand as a beacon of our...</td>\n",
              "      <td>302 Hart Senate Office Building Washington DC ...</td>\n",
              "      <td>58.0</td>\n",
              "      <td>M</td>\n",
              "      <td>White - Non-Hispanic</td>\n",
              "      <td></td>\n",
              "    </tr>\n",
              "    <tr>\n",
              "      <th>3</th>\n",
              "      <td>3</td>\n",
              "      <td>0.714706</td>\n",
              "      <td>1668752040007172097</td>\n",
              "      <td>SenDanSullivan</td>\n",
              "      <td>2023-06-13 22:47:44+00:00</td>\n",
              "      <td>Democratic</td>\n",
              "      <td>.@USMC General Eric Smith, nominee to be the n...</td>\n",
              "      <td>302 Hart Senate Office Building Washington DC ...</td>\n",
              "      <td>58.0</td>\n",
              "      <td>M</td>\n",
              "      <td>White - Non-Hispanic</td>\n",
              "      <td></td>\n",
              "    </tr>\n",
              "    <tr>\n",
              "      <th>4</th>\n",
              "      <td>4</td>\n",
              "      <td>0.714706</td>\n",
              "      <td>1668715803141627904</td>\n",
              "      <td>SenDanSullivan</td>\n",
              "      <td>2023-06-13 20:23:45+00:00</td>\n",
              "      <td>Democratic</td>\n",
              "      <td>Today, I led a letter w/ 13 of my #SASC collea...</td>\n",
              "      <td>302 Hart Senate Office Building Washington DC ...</td>\n",
              "      <td>58.0</td>\n",
              "      <td>M</td>\n",
              "      <td>White - Non-Hispanic</td>\n",
              "      <td></td>\n",
              "    </tr>\n",
              "  </tbody>\n",
              "</table>\n",
              "</div>"
            ],
            "text/plain": [
              "   Unnamed: 0  ideology             tweet_id        username  \\\n",
              "0           0  0.714706  1669116894370996273  SenDanSullivan   \n",
              "1           1  0.714706  1669081104475725826  SenDanSullivan   \n",
              "2           2  0.714706  1669075435999641600  SenDanSullivan   \n",
              "3           3  0.714706  1668752040007172097  SenDanSullivan   \n",
              "4           4  0.714706  1668715803141627904  SenDanSullivan   \n",
              "\n",
              "                  created_at     party_x  \\\n",
              "0  2023-06-14 22:57:32+00:00  Democratic   \n",
              "1  2023-06-14 20:35:19+00:00  Democratic   \n",
              "2  2023-06-14 20:12:48+00:00  Democratic   \n",
              "3  2023-06-13 22:47:44+00:00  Democratic   \n",
              "4  2023-06-13 20:23:45+00:00  Democratic   \n",
              "\n",
              "                                               tweet  \\\n",
              "0  Alaska offers the @USMC:\\n\\n1⃣ - exceptional y...   \n",
              "1  For the last 2.5 years, Americans have been fo...   \n",
              "2  The Stars and Stripes stand as a beacon of our...   \n",
              "3  .@USMC General Eric Smith, nominee to be the n...   \n",
              "4  Today, I led a letter w/ 13 of my #SASC collea...   \n",
              "\n",
              "                                             address   age Gender  \\\n",
              "0  302 Hart Senate Office Building Washington DC ...  58.0      M   \n",
              "1  302 Hart Senate Office Building Washington DC ...  58.0      M   \n",
              "2  302 Hart Senate Office Building Washington DC ...  58.0      M   \n",
              "3  302 Hart Senate Office Building Washington DC ...  58.0      M   \n",
              "4  302 Hart Senate Office Building Washington DC ...  58.0      M   \n",
              "\n",
              "         Race_Ethnicity broadband  \n",
              "0  White - Non-Hispanic            \n",
              "1  White - Non-Hispanic            \n",
              "2  White - Non-Hispanic            \n",
              "3  White - Non-Hispanic            \n",
              "4  White - Non-Hispanic            "
            ]
          },
          "execution_count": 13,
          "metadata": {},
          "output_type": "execute_result"
        }
      ],
      "source": [
        "df['broadband'] = \"\"\n",
        "df.head(5)"
      ]
    },
    {
      "cell_type": "code",
      "execution_count": null,
      "id": "7840db5a",
      "metadata": {
        "id": "7840db5a",
        "outputId": "f34c57c1-3cdc-469b-bb6a-662e2b263817"
      },
      "outputs": [
        {
          "name": "stderr",
          "output_type": "stream",
          "text": [
            "/var/folders/y3/rsmd8fz5109d9llw0q5ncvg80000gp/T/ipykernel_71715/2904091845.py:16: SettingWithCopyWarning: \n",
            "A value is trying to be set on a copy of a slice from a DataFrame\n",
            "\n",
            "See the caveats in the documentation: https://pandas.pydata.org/pandas-docs/stable/user_guide/indexing.html#returning-a-view-versus-a-copy\n",
            "  df['broadband'].loc[i]= 'No'\n",
            "/var/folders/y3/rsmd8fz5109d9llw0q5ncvg80000gp/T/ipykernel_71715/2904091845.py:12: SettingWithCopyWarning: \n",
            "A value is trying to be set on a copy of a slice from a DataFrame\n",
            "\n",
            "See the caveats in the documentation: https://pandas.pydata.org/pandas-docs/stable/user_guide/indexing.html#returning-a-view-versus-a-copy\n",
            "  df['broadband'].loc[i] = \"Yes\"\n"
          ]
        }
      ],
      "source": [
        "%time\n",
        "keyword = ['broadband', 'Broadband',\n",
        "           'Internet', 'internet',\n",
        "           'connectivity', '5G',\n",
        "           '4G']\n",
        "\n",
        "for i in range(len(df)):\n",
        "\n",
        "    for word in keyword:\n",
        "\n",
        "        if word in str(df['tweet'].loc[i]):\n",
        "\n",
        "            df['broadband'].loc[i] = \"Yes\"\n",
        "\n",
        "        else:\n",
        "\n",
        "            df['broadband'].loc[i]= 'No'\n",
        "\n",
        "df.head(5)"
      ]
    },
    {
      "cell_type": "code",
      "execution_count": null,
      "id": "03fcd32c",
      "metadata": {
        "id": "03fcd32c",
        "outputId": "83133a7c-7fb2-4938-88c3-7545f985bf4e"
      },
      "outputs": [
        {
          "data": {
            "text/plain": [
              "broadband\n",
              "No     121210\n",
              "Yes        68\n",
              "dtype: int64"
            ]
          },
          "execution_count": 15,
          "metadata": {},
          "output_type": "execute_result"
        }
      ],
      "source": [
        "df.groupby('broadband').size()"
      ]
    },
    {
      "cell_type": "code",
      "execution_count": null,
      "id": "895dabfc",
      "metadata": {
        "id": "895dabfc"
      },
      "outputs": [],
      "source": []
    }
  ],
  "metadata": {
    "kernelspec": {
      "display_name": "Python 3 (ipykernel)",
      "language": "python",
      "name": "python3"
    },
    "language_info": {
      "codemirror_mode": {
        "name": "ipython",
        "version": 3
      },
      "file_extension": ".py",
      "mimetype": "text/x-python",
      "name": "python",
      "nbconvert_exporter": "python",
      "pygments_lexer": "ipython3",
      "version": "3.9.12"
    },
    "colab": {
      "provenance": [],
      "include_colab_link": true
    }
  },
  "nbformat": 4,
  "nbformat_minor": 5
}